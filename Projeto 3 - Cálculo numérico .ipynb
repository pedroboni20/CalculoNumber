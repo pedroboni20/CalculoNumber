{
 "cells": [
  {
   "cell_type": "code",
   "execution_count": 1,
   "metadata": {},
   "outputs": [],
   "source": [
    "import numpy as np"
   ]
  },
  {
   "cell_type": "code",
   "execution_count": null,
   "metadata": {},
   "outputs": [],
   "source": [
    "Um pára-quedista em queda livre está sujeito à seguinte equação:\n",
    "    dv/dt=g-c(c/m)*v,\n",
    "     onde m é a massa do pára-quedas, g é a aceleração da gravidade, c é uma constante de proporcionalidade da força de resistência do ar e v é a velocidade em direção ao chão, assumida positiva. Adote g=9.8m/s², c=12.5kg/s e m=68.0kg.\n",
    "     Supondo que no instante t0=0 o pára-quedista salte de um avião com velocidade vertical v0=0, determine, usando o método de Euler com passo de 0.01s, a velocidade do pára-quedista nos instântes de tempo: 2, 4, 6, 8s em m/s.\n"
   ]
  },
  {
   "cell_type": "code",
   "execution_count": 17,
   "metadata": {},
   "outputs": [],
   "source": [
    "def euler(yn, h, f):\n",
    "    return yn + (h*f)\n",
    "def f(v):\n",
    "    g = 9.8\n",
    "    c = 12.5\n",
    "    m = 68\n",
    "    return g -(c*(c/m)*v)"
   ]
  },
  {
   "cell_type": "code",
   "execution_count": 18,
   "metadata": {},
   "outputs": [],
   "source": [
    "t = np.arange(0.01,8.01, 0.01)\n",
    "v = [0]\n",
    "h = 0.01\n",
    "for i in t:\n",
    "    x = euler(v[len(v)-1], h, f(v[len(v)-1]))\n",
    "    v.append(x)"
   ]
  },
  {
   "cell_type": "code",
   "execution_count": 26,
   "metadata": {},
   "outputs": [],
   "source": [
    "ind = []\n",
    "count = 0\n",
    "for i in t:\n",
    "    if i == 2:\n",
    "        ind.append(count)\n",
    "    if i == 4:\n",
    "        ind.append(count)\n",
    "    if i == 6:\n",
    "        ind.append(count)\n",
    "    if i == 8:\n",
    "        ind.append(count)\n",
    "    else:\n",
    "        pass\n",
    "    count += 1"
   ]
  },
  {
   "cell_type": "code",
   "execution_count": 34,
   "metadata": {},
   "outputs": [],
   "source": [
    "ind = np.asarray(ind)\n",
    "ind = ind + 1"
   ]
  },
  {
   "cell_type": "code",
   "execution_count": 35,
   "metadata": {},
   "outputs": [
    {
     "data": {
      "text/plain": [
       "array([200, 400, 600, 800])"
      ]
     },
     "execution_count": 35,
     "metadata": {},
     "output_type": "execute_result"
    }
   ],
   "source": [
    "ind"
   ]
  },
  {
   "cell_type": "code",
   "execution_count": 36,
   "metadata": {},
   "outputs": [],
   "source": [
    "valores = []\n",
    "for i in ind:\n",
    "    valores.append(v[i])"
   ]
  },
  {
   "cell_type": "code",
   "execution_count": 37,
   "metadata": {},
   "outputs": [
    {
     "data": {
      "text/plain": [
       "[4.224147913861401, 4.264569462603403, 4.264956262885029, 4.26495996423895]"
      ]
     },
     "execution_count": 37,
     "metadata": {},
     "output_type": "execute_result"
    }
   ],
   "source": [
    "valores"
   ]
  },
  {
   "cell_type": "code",
   "execution_count": 43,
   "metadata": {},
   "outputs": [
    {
     "name": "stdout",
     "output_type": "stream",
     "text": [
      "A velocidade no tempo 2s é 4.224147913861401 m/s\n",
      "A velocidade no tempo 4s é 4.264569462603403 m/s\n",
      "A velocidade no tempo 6s é 4.264956262885029 m/s\n",
      "A velocidade no tempo 8s é 4.26495996423895 m/s\n"
     ]
    }
   ],
   "source": [
    "print(f'A velocidade no tempo 2s é {valores[0]} m/s')\n",
    "print(f'A velocidade no tempo 4s é {valores[1]} m/s')\n",
    "print(f'A velocidade no tempo 6s é {valores[2]} m/s')\n",
    "print(f'A velocidade no tempo 8s é {valores[3]} m/s')"
   ]
  },
  {
   "cell_type": "code",
   "execution_count": null,
   "metadata": {},
   "outputs": [],
   "source": []
  }
 ],
 "metadata": {
  "kernelspec": {
   "display_name": "Python 3",
   "language": "python",
   "name": "python3"
  },
  "language_info": {
   "codemirror_mode": {
    "name": "ipython",
    "version": 3
   },
   "file_extension": ".py",
   "mimetype": "text/x-python",
   "name": "python",
   "nbconvert_exporter": "python",
   "pygments_lexer": "ipython3",
   "version": "3.6.4"
  }
 },
 "nbformat": 4,
 "nbformat_minor": 2
}
